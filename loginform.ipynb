{
 "cells": [
  {
   "cell_type": "markdown",
   "metadata": {},
   "source": [
    "# Login Form using Python Tkinter"
   ]
  },
  {
   "cell_type": "code",
   "execution_count": 1,
   "metadata": {},
   "outputs": [],
   "source": [
    "from tkinter import *\n",
    "from functools import partial\n",
    "\n",
    "\n",
    "def user_credential(username, password):\n",
    "    print(\"username entered :\", username.get())\n",
    "    print(\"password entered :\", password.get())\n",
    "\n",
    "#window\n",
    "\n",
    "tkWindow = Tk()\n",
    "tkWindow.title(\"Login Form\")\n",
    "tkWindow.geometry(\"300x250\")\n",
    "\n",
    "\n",
    "#Creating layout of login form\n",
    "\n",
    "Label(tkWindow, text=\"Please enter details below\", width=\"300\", bg=\"orange\",fg=\"white\").pack()\n",
    "\n",
    "#username label and text entry box\n",
    "\n",
    "usernameLabel = Label(tkWindow, text=\"Username *\").place(x=20,y=40)\n",
    "username = StringVar()\n",
    "usernameEntry = Entry(tkWindow, textvariable=username).place(x=90,y=42)  \n",
    "\n",
    "#password label and password entry box\n",
    "\n",
    "passwordLabel = Label(tkWindow,text=\"Password *\").place(x=20,y=80)  \n",
    "password = StringVar()\n",
    "passwordEntry = Entry(tkWindow, textvariable=password, show='*').place(x=90,y=82)  \n",
    "\n",
    "user_credential = partial(user_credential, username, password)\n",
    "\n",
    "#login button\n",
    "\n",
    "loginButton = Button(tkWindow, text=\"Login\", width=10, height=1, bg=\"orange\", command=user_credential).place(x=105,y=130)  \n",
    "\n",
    "tkWindow.mainloop()"
   ]
  },
  {
   "cell_type": "code",
   "execution_count": null,
   "metadata": {},
   "outputs": [],
   "source": []
  }
 ],
 "metadata": {
  "interpreter": {
   "hash": "26f01626838fe02340c49408e611549b375a01d3f259fee8fe5c369c3e4c769b"
  },
  "kernelspec": {
   "display_name": "Python 3.9.6 64-bit",
   "language": "python",
   "name": "python3"
  },
  "language_info": {
   "codemirror_mode": {
    "name": "ipython",
    "version": 3
   },
   "file_extension": ".py",
   "mimetype": "text/x-python",
   "name": "python",
   "nbconvert_exporter": "python",
   "pygments_lexer": "ipython3",
   "version": "3.9.6"
  },
  "orig_nbformat": 4
 },
 "nbformat": 4,
 "nbformat_minor": 2
}
